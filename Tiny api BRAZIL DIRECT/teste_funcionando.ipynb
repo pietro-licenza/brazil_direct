{
 "cells": [
  {
   "cell_type": "code",
   "execution_count": 1,
   "metadata": {},
   "outputs": [],
   "source": [
    "#\n",
    "#todo 1 - CRIAR CONFIGS, UTILS E ETC\n",
    "#todo 2 - Funções\n",
    "#todo 3 - Pesquisar se possui variações no link do ml \"/variations\" e caso possua, capturar o nome da variação para incluir no tiny\n",
    "#todo 4 - Ver no tiny, como incluo uma variação"
   ]
  },
  {
   "cell_type": "code",
   "execution_count": 2,
   "metadata": {},
   "outputs": [],
   "source": [
    "from configs import *\n",
    "from utils import *\n",
    "import requests"
   ]
  },
  {
   "cell_type": "markdown",
   "metadata": {},
   "source": [
    "### PROCESSAMENTO DE DADOS MERCADO LIVRE\n",
    "#### 1. CAPTURA OS DADOS ATRAVÉS DO CÓDIGO MLB E COLA NA PLANILHA"
   ]
  },
  {
   "cell_type": "code",
   "execution_count": 3,
   "metadata": {},
   "outputs": [],
   "source": [
    "spreadsheet_id = '1yAbwVoG3H1F70UTVSqMVLfmAjWEL0f7viqfqZfZAsys'"
   ]
  },
  {
   "cell_type": "code",
   "execution_count": 4,
   "metadata": {},
   "outputs": [
    {
     "name": "stdout",
     "output_type": "stream",
     "text": [
      "A função authenticate_gsheets foi chamada!\n"
     ]
    },
    {
     "data": {
      "text/plain": [
       "<pygsheets.client.Client at 0x20989d746a0>"
      ]
     },
     "execution_count": 4,
     "metadata": {},
     "output_type": "execute_result"
    }
   ],
   "source": [
    "#! Autenticação Google Sheets\n",
    "\n",
    "sheets_client = authenticate_gsheets(service_account_json , sheets_scopes)\n",
    "sheets_client"
   ]
  },
  {
   "cell_type": "code",
   "execution_count": 5,
   "metadata": {},
   "outputs": [
    {
     "data": {
      "text/plain": [
       "<Worksheet 'Buscador de Informações' index:7>"
      ]
     },
     "execution_count": 5,
     "metadata": {},
     "output_type": "execute_result"
    }
   ],
   "source": [
    "#! Capturando dados do projeto\n",
    "sheet_configs  = sheets_client.open_by_key(spreadsheet_id)\n",
    "wks_busca_info  = sheet_configs.worksheet_by_title(title=\"Buscador de Informações\")\n",
    "wks_busca_info"
   ]
  },
  {
   "cell_type": "code",
   "execution_count": 6,
   "metadata": {},
   "outputs": [
    {
     "name": "stdout",
     "output_type": "stream",
     "text": [
      "Executando a função get_active_products\n",
      "Função get_active_products executada com sucesso!\n"
     ]
    },
    {
     "data": {
      "text/plain": [
       "['MLB3562637891', 'MLB4969200524']"
      ]
     },
     "execution_count": 6,
     "metadata": {},
     "output_type": "execute_result"
    }
   ],
   "source": [
    "lista_anuncios = get_active_products(wks_busca_info)\n",
    "lista_anuncios"
   ]
  },
  {
   "cell_type": "code",
   "execution_count": 7,
   "metadata": {},
   "outputs": [
    {
     "data": {
      "text/plain": [
       "[['MLB3562637891',\n",
       "  'Cooktop A Gás 5 Bocas Inox Bivolt 75x52cm - Electrolux',\n",
       "  '1759.9',\n",
       "  'Electrolux',\n",
       "  'Renove sua cozinha com o Cooktop a Gás Electrolux, uma fusão de elegância, desempenho e praticidade para transformar cada refeição em uma experiência única. Confira as características que tornam este cooktop a escolha perfeita para sua casa:\\n\\nCaracterísticas Principais:\\n\\nAlimentação: Elétrica, garantindo eficiência no preparo dos alimentos.\\nLargura do Nicho para Cooktop: 69.5 cm, proporcionando encaixe perfeito em sua bancada.\\nProfundidade do Nicho para Cooktop: 15 cm, ideal para otimizar o espaço na sua cozinha.\\nMarca: Electrolux, sinônimo de qualidade e inovação.\\nLargura e Profundidade: 75,00 cm x 52,00 cm, oferecendo ampla área de preparo.\\nDimensão: 75x52 cm, tamanho ideal para diversas receitas.\\nTensão Elétrica: Bivolt, adaptando-se às diferentes instalações elétricas.\\nAcabamento: Inox, conferindo durabilidade e sofisticação.\\nQuantidade de Bocas: 5 bocas, proporcionando versatilidade no preparo de múltiplos pratos.\\nCor e Tonalidade: Inox/Prata, adicionando um toque moderno à sua cozinha.\\nAcendedor Super Automático: Facilita o acendimento rápido e seguro.\\nGarantia do Fabricante: 12 meses, assegurando a confiança na sua escolha.\\nReferência do Produto: 23755DBA089, identificação exclusiva para fácil consulta.\\nMaterial: Aço, garantindo resistência e durabilidade.\\nProduto: Cooktop GT75X à gás com mesa em aço inox e queimador tripla-chama (Anacional).\\nPeso do Produto: 9,70 Kg, proporcionando facilidade na instalação.\\nProduto Acompanha Embalagem: Sim, garantindo proteção durante o transporte.\\nPeso do Produto na Embalagem: 10,20 Kg, evitando danos durante o transporte.\\nDimensão da Embalagem: 15,6x80,8x57,4 cm, compacta para fácil armazenamento.\\nNível de Eficiência Queimadores da Mesa: Classificação A, garantindo eficiência no consumo de gás.\\nEleve seu padrão culinário com o Cooktop a Gás Electrolux - uma fusão de design elegante, funcionalidade avançada e confiabilidade. Adquira agora e transforme cada refeição em um momento especial na sua cozinha!',\n",
       "  'MLB120316',\n",
       "  'N/A',\n",
       "  'http://http2.mlstatic.com/D_630052-MLA40087737400_122019-O.jpg',\n",
       "  'Ok - 500x259',\n",
       "  'http://http2.mlstatic.com/D_671687-MLU69967479183_062023-O.jpg',\n",
       "  'Ok - 500x437',\n",
       "  'http://http2.mlstatic.com/D_651639-MLU72606101048_112023-O.jpg',\n",
       "  'Ok - 500x500',\n",
       "  'http://http2.mlstatic.com/D_953717-MLU72677733863_112023-O.jpg',\n",
       "  'Ok - 500x500',\n",
       "  'Sim',\n",
       "  \"'Cor':'Inox';'Voltagem':'127V/220V'\"],\n",
       " ['MLB4969200524',\n",
       "  'Cooktop A Gás 4 Bocas Inox Bivolt 60x52cm - Electrolux',\n",
       "  '1499.9',\n",
       "  'Electrolux',\n",
       "  '\"Desperte o Chef em Você com o Cooktop a Gás 5 Bocas Inox Bivolt 60x52cm - Electrolux!\\n\\nEleve sua experiência culinária com o Cooktop a Gás Electrolux, uma peça de design moderno e eficiente, projetada para proporcionar praticidade e sofisticação à sua cozinha. Confira os destaques que fazem deste cooktop uma escolha excepcional:\\n\\nCaracterísticas Principais:\\n\\nAlimentação: Elétrica, assegurando desempenho confiável.\\nMarca: Electrolux, referência em qualidade e inovação.\\nDimensão: 10,3 X 60 X 52 cm, tamanho compacto e funcional para otimizar o espaço.\\nTensão Elétrica: Bivolt, adaptando-se facilmente à sua instalação elétrica.\\nQuantidade de Bocas: 4 bocas, perfeito equilíbrio entre praticidade e versatilidade.\\nTonalidade: Prata, conferindo elegância e modernidade ao ambiente.\\nAcendedor Super Automático: Facilita o acendimento rápido e seguro.\\nGarantia do Fabricante: 12 meses, assegurando sua satisfação a longo prazo.\\nMaterial: Aço, proporcionando durabilidade e resistência.\\nProduto: Cooktop GT60X à gás com mesa em aço inox e queimador tripla-chama (Nacional).\\nO Cooktop GT60X da Electrolux une tecnologia e estilo, tornando-se uma escolha ideal para quem busca eficiência e design contemporâneo. Com a mesa em aço inox e queimador tripla-chama, prepare suas receitas favoritas com praticidade e rapidez.\\n\\nInvista na qualidade da Electrolux e transforme sua cozinha em um espaço de inspiração gastronômica. Adquira agora o Cooktop a Gás 5 Bocas Inox Bivolt e descubra o prazer de cozinhar com sofisticação e eficiência.\"',\n",
       "  'MLB120316',\n",
       "  'N/A',\n",
       "  'http://http2.mlstatic.com/D_896648-MLB78219352915_082024-O.jpg',\n",
       "  'Ok - 500x429',\n",
       "  'http://http2.mlstatic.com/D_964450-MLB77994718082_082024-O.jpg',\n",
       "  'Ok - 500x431',\n",
       "  'http://http2.mlstatic.com/D_846774-MLB78219559231_082024-O.jpg',\n",
       "  'Ok - 500x364',\n",
       "  'http://http2.mlstatic.com/D_996924-MLB78219352933_082024-O.jpg',\n",
       "  'Ok - 500x500',\n",
       "  'Sim',\n",
       "  \"'Cor':'Prateado';'Voltagem':'110V/220V'\"]]"
      ]
     },
     "execution_count": 7,
     "metadata": {},
     "output_type": "execute_result"
    }
   ],
   "source": [
    "search_result = get_ml_data(lista_anuncios)\n",
    "search_result"
   ]
  },
  {
   "cell_type": "code",
   "execution_count": 8,
   "metadata": {},
   "outputs": [],
   "source": [
    "paste_values(wks_busca_info, search_result)"
   ]
  },
  {
   "cell_type": "code",
   "execution_count": 9,
   "metadata": {},
   "outputs": [
    {
     "data": {
      "text/html": [
       "<div>\n",
       "<style scoped>\n",
       "    .dataframe tbody tr th:only-of-type {\n",
       "        vertical-align: middle;\n",
       "    }\n",
       "\n",
       "    .dataframe tbody tr th {\n",
       "        vertical-align: top;\n",
       "    }\n",
       "\n",
       "    .dataframe thead th {\n",
       "        text-align: right;\n",
       "    }\n",
       "</style>\n",
       "<table border=\"1\" class=\"dataframe\">\n",
       "  <thead>\n",
       "    <tr style=\"text-align: right;\">\n",
       "      <th></th>\n",
       "      <th>CÓDIGO Produto</th>\n",
       "      <th>Título</th>\n",
       "      <th>Preço</th>\n",
       "      <th>Marca</th>\n",
       "      <th>Descrição</th>\n",
       "      <th>Categoria ML</th>\n",
       "      <th>Gtin / EAN</th>\n",
       "      <th>Url Capa</th>\n",
       "      <th>Dimensões Url capa</th>\n",
       "      <th>Url2</th>\n",
       "      <th>...</th>\n",
       "      <th>Dimensões Url3</th>\n",
       "      <th>Url4</th>\n",
       "      <th>Dimensões Url4</th>\n",
       "      <th>Tem Variação</th>\n",
       "      <th>Variações</th>\n",
       "      <th>Dimensões</th>\n",
       "      <th>Altura</th>\n",
       "      <th>Largura</th>\n",
       "      <th>Comprimento</th>\n",
       "      <th>Peso</th>\n",
       "    </tr>\n",
       "  </thead>\n",
       "  <tbody>\n",
       "    <tr>\n",
       "      <th>0</th>\n",
       "      <td>MLB3562637891</td>\n",
       "      <td>Cooktop A Gas 5 Bocas Inox Bivolt 75x52cm - El...</td>\n",
       "      <td>1759.9</td>\n",
       "      <td>Electrolux</td>\n",
       "      <td>Renove sua cozinha com o Cooktop a Gas Electro...</td>\n",
       "      <td>MLB120316</td>\n",
       "      <td>N/A</td>\n",
       "      <td>http://http2.mlstatic.com/D_630052-MLA40087737...</td>\n",
       "      <td>Ok - 500x259</td>\n",
       "      <td>http://http2.mlstatic.com/D_671687-MLU69967479...</td>\n",
       "      <td>...</td>\n",
       "      <td>Ok - 500x500</td>\n",
       "      <td>http://http2.mlstatic.com/D_953717-MLU72677733...</td>\n",
       "      <td>Ok - 500x500</td>\n",
       "      <td>Sim</td>\n",
       "      <td>Cor:Inox;Voltagem:127V/220V</td>\n",
       "      <td>80x50x20 - 9kg</td>\n",
       "      <td>80</td>\n",
       "      <td>50</td>\n",
       "      <td>20</td>\n",
       "      <td>9</td>\n",
       "    </tr>\n",
       "    <tr>\n",
       "      <th>1</th>\n",
       "      <td>MLB4969200524</td>\n",
       "      <td>Cooktop A Gas 4 Bocas Inox Bivolt 60x52cm - El...</td>\n",
       "      <td>1499.9</td>\n",
       "      <td>Electrolux</td>\n",
       "      <td>\"Desperte o Chef em Voce com o Cooktop a Gas 5...</td>\n",
       "      <td>MLB120316</td>\n",
       "      <td>N/A</td>\n",
       "      <td>http://http2.mlstatic.com/D_896648-MLB78219352...</td>\n",
       "      <td>Ok - 500x429</td>\n",
       "      <td>http://http2.mlstatic.com/D_964450-MLB77994718...</td>\n",
       "      <td>...</td>\n",
       "      <td>Ok - 500x364</td>\n",
       "      <td>http://http2.mlstatic.com/D_996924-MLB78219352...</td>\n",
       "      <td>Ok - 500x500</td>\n",
       "      <td>Sim</td>\n",
       "      <td>Cor:Prateado;Voltagem:110V/220V</td>\n",
       "      <td>60x50x20 - 7kg</td>\n",
       "      <td>60</td>\n",
       "      <td>50</td>\n",
       "      <td>20</td>\n",
       "      <td>7</td>\n",
       "    </tr>\n",
       "  </tbody>\n",
       "</table>\n",
       "<p>2 rows × 22 columns</p>\n",
       "</div>"
      ],
      "text/plain": [
       "  CÓDIGO Produto                                             Título   Preço  \\\n",
       "0  MLB3562637891  Cooktop A Gas 5 Bocas Inox Bivolt 75x52cm - El...  1759.9   \n",
       "1  MLB4969200524  Cooktop A Gas 4 Bocas Inox Bivolt 60x52cm - El...  1499.9   \n",
       "\n",
       "        Marca                                          Descrição Categoria ML  \\\n",
       "0  Electrolux  Renove sua cozinha com o Cooktop a Gas Electro...    MLB120316   \n",
       "1  Electrolux  \"Desperte o Chef em Voce com o Cooktop a Gas 5...    MLB120316   \n",
       "\n",
       "  Gtin / EAN                                           Url Capa  \\\n",
       "0        N/A  http://http2.mlstatic.com/D_630052-MLA40087737...   \n",
       "1        N/A  http://http2.mlstatic.com/D_896648-MLB78219352...   \n",
       "\n",
       "  Dimensões Url capa                                               Url2  ...  \\\n",
       "0       Ok - 500x259  http://http2.mlstatic.com/D_671687-MLU69967479...  ...   \n",
       "1       Ok - 500x429  http://http2.mlstatic.com/D_964450-MLB77994718...  ...   \n",
       "\n",
       "  Dimensões Url3                                               Url4  \\\n",
       "0   Ok - 500x500  http://http2.mlstatic.com/D_953717-MLU72677733...   \n",
       "1   Ok - 500x364  http://http2.mlstatic.com/D_996924-MLB78219352...   \n",
       "\n",
       "  Dimensões Url4 Tem Variação                        Variações  \\\n",
       "0   Ok - 500x500          Sim      Cor:Inox;Voltagem:127V/220V   \n",
       "1   Ok - 500x500          Sim  Cor:Prateado;Voltagem:110V/220V   \n",
       "\n",
       "        Dimensões Altura Largura  Comprimento  Peso  \n",
       "0  80x50x20 - 9kg     80      50           20     9  \n",
       "1  60x50x20 - 7kg     60      50           20     7  \n",
       "\n",
       "[2 rows x 22 columns]"
      ]
     },
     "execution_count": 9,
     "metadata": {},
     "output_type": "execute_result"
    }
   ],
   "source": [
    "df_produtos_final_step1 = get_products_df(wks_busca_info)\n",
    "df_produtos_final_step1"
   ]
  },
  {
   "cell_type": "code",
   "execution_count": 10,
   "metadata": {},
   "outputs": [
    {
     "name": "stdout",
     "output_type": "stream",
     "text": [
      "Imagem salva e redimensionada: C:\\Users\\Usuário\\Downloads\\11.jpg\n",
      "Imagem salva e redimensionada: C:\\Users\\Usuário\\Downloads\\12.jpg\n",
      "Imagem salva e redimensionada: C:\\Users\\Usuário\\Downloads\\13.jpg\n",
      "Imagem salva e redimensionada: C:\\Users\\Usuário\\Downloads\\14.jpg\n",
      "Imagem salva e redimensionada: C:\\Users\\Usuário\\Downloads\\21.jpg\n",
      "Imagem salva e redimensionada: C:\\Users\\Usuário\\Downloads\\22.jpg\n",
      "Imagem salva e redimensionada: C:\\Users\\Usuário\\Downloads\\23.jpg\n",
      "Imagem salva e redimensionada: C:\\Users\\Usuário\\Downloads\\24.jpg\n"
     ]
    }
   ],
   "source": [
    "import os\n",
    "import requests\n",
    "from PIL import Image\n",
    "from io import BytesIO\n",
    "import pandas as pd\n",
    "\n",
    "# Função para converter números em letras\n",
    "def number_to_letter(number):\n",
    "    if number <= 9:\n",
    "        return str(number)\n",
    "    else:\n",
    "        # Converte números maiores que 9 para letras\n",
    "        return chr(65 + (number - 10))\n",
    "\n",
    "# Supondo que o DataFrame já esteja disponível\n",
    "df = df_produtos_final_step1\n",
    "\n",
    "# Defina o caminho para a pasta de downloads\n",
    "download_path = os.path.join(os.path.expanduser('~'), 'Downloads')\n",
    "\n",
    "# Função para baixar e redimensionar a imagem\n",
    "def download_and_resize_image(url, file_name):\n",
    "    try:\n",
    "        response = requests.get(url)\n",
    "        if response.status_code == 200:\n",
    "            image = Image.open(BytesIO(response.content))\n",
    "            # Redimensiona a imagem para 500x500 usando o filtro LANCZOS\n",
    "            image = image.resize((500, 500), Image.LANCZOS)\n",
    "            image.save(file_name)\n",
    "            print(f\"Imagem salva e redimensionada: {file_name}\")\n",
    "        else:\n",
    "            print(f\"Erro ao baixar {url}: Status {response.status_code}\")\n",
    "    except Exception as e:\n",
    "        print(f\"Erro ao processar {url}: {e}\")\n",
    "\n",
    "# Itere sobre o DataFrame e faça o download e redimensionamento das imagens\n",
    "for index, row in df.iterrows():\n",
    "    base_name = number_to_letter(index + 1)  # Nome baseado no número da linha convertido em letra\n",
    "\n",
    "    urls = [row['Url Capa'], row.get('Url2'), row.get('Url3'), row.get('Url4')]\n",
    "\n",
    "    for i, url in enumerate(urls, start=1):\n",
    "        if pd.notna(url):  # Verifica se a URL não está vazia\n",
    "            # Nome do arquivo baseado no número da linha repetido conforme o índice da coluna\n",
    "            file_name = os.path.join(download_path, base_name + number_to_letter(i) + '.jpg')\n",
    "            download_and_resize_image(url, file_name)\n"
   ]
  },
  {
   "cell_type": "code",
   "execution_count": 11,
   "metadata": {},
   "outputs": [],
   "source": [
    "categorias = get_df_categories()"
   ]
  },
  {
   "cell_type": "code",
   "execution_count": 12,
   "metadata": {},
   "outputs": [],
   "source": [
    "df_categorias = mapeamento_categoria(df_produtos_final_step1,categorias)"
   ]
  },
  {
   "cell_type": "markdown",
   "metadata": {},
   "source": [
    "### INTEGRANDO TINY COM OS DADOS DO ML NA PLANILHA\n",
    "#### 1. CAPTURA OS DADOS DA PLANILHA, SUBSTITUI PELOS DADOS NECESSÁRIO NO TINY E CRIA O JSON\n"
   ]
  },
  {
   "cell_type": "code",
   "execution_count": 13,
   "metadata": {},
   "outputs": [
    {
     "data": {
      "text/plain": [
       "{'produtos': [{'produto': {'sequencia': 1,\n",
       "    'nome': 'Cooktop A Gas 5 Bocas Inox Bivolt 75x52cm - Electrolux',\n",
       "    'codigo': 'MLB3562637891',\n",
       "    'gtin': 'N/A',\n",
       "    'unidade': 'UN',\n",
       "    'preco': 1759.9,\n",
       "    'peso_liquido': 9.0,\n",
       "    'peso_bruto': 9.0,\n",
       "    'altura_embalagem': 80.0,\n",
       "    'largura_embalagem': 50.0,\n",
       "    'comprimento_embalagem': 20.0,\n",
       "    'origem': '0',\n",
       "    'situacao': 'A',\n",
       "    'tipo': 'P',\n",
       "    'estoque_atual': 100,\n",
       "    'estoque_minimo': 100,\n",
       "    'dias_preparacao': 3,\n",
       "    'categoria': 'Eletrodomésticos >> Fornos e Fogões >> Cooktop',\n",
       "    'descricao_complementar': 'Renove sua cozinha com o Cooktop a Gas Electrolux, uma fusao de elegancia, desempenho e praticidade para transformar cada refeicao em uma experiencia unica. Confira as caracteristicas que tornam este cooktop a escolha perfeita para sua casa:\\n\\nCaracteristicas Principais:\\n\\nAlimentacao: Eletrica, garantindo eficiencia no preparo dos alimentos.\\nLargura do Nicho para Cooktop: 69.5 cm, proporcionando encaixe perfeito em sua bancada.\\nProfundidade do Nicho para Cooktop: 15 cm, ideal para otimizar o espaco na sua cozinha.\\nMarca: Electrolux, sinonimo de qualidade e inovacao.\\nLargura e Profundidade: 75,00 cm x 52,00 cm, oferecendo ampla area de preparo.\\nDimensao: 75x52 cm, tamanho ideal para diversas receitas.\\nTensao Eletrica: Bivolt, adaptando-se as diferentes instalacoes eletricas.\\nAcabamento: Inox, conferindo durabilidade e sofisticacao.\\nQuantidade de Bocas: 5 bocas, proporcionando versatilidade no preparo de multiplos pratos.\\nCor e Tonalidade: Inox/Prata, adicionando um toque moderno a sua cozinha.\\nAcendedor Super Automatico: Facilita o acendimento rapido e seguro.\\nGarantia do Fabricante: 12 meses, assegurando a confianca na sua escolha.\\nReferencia do Produto: 23755DBA089, identificacao exclusiva para facil consulta.\\nMaterial: Aco, garantindo resistencia e durabilidade.\\nProduto: Cooktop GT75X a gas com mesa em aco inox e queimador tripla-chama (Anacional).\\nPeso do Produto: 9,70 Kg, proporcionando facilidade na instalacao.\\nProduto Acompanha Embalagem: Sim, garantindo protecao durante o transporte.\\nPeso do Produto na Embalagem: 10,20 Kg, evitando danos durante o transporte.\\nDimensao da Embalagem: 15,6x80,8x57,4 cm, compacta para facil armazenamento.\\nNivel de Eficiencia Queimadores da Mesa: Classificacao A, garantindo eficiencia no consumo de gas.\\nEleve seu padrao culinario com o Cooktop a Gas Electrolux - uma fusao de design elegante, funcionalidade avancada e confiabilidade. Adquira agora e transforme cada refeicao em um momento especial na sua cozinha!',\n",
       "    'marca': 'Electrolux',\n",
       "    'garantia': '3',\n",
       "    'imagens_externas': [{'imagem_externa': {'url': 'http://http2.mlstatic.com/D_630052-MLA40087737400_122019-O.jpg'}},\n",
       "     {'imagem_externa': {'url': 'http://http2.mlstatic.com/D_671687-MLU69967479183_062023-O.jpg'}},\n",
       "     {'imagem_externa': {'url': 'http://http2.mlstatic.com/D_651639-MLU72606101048_112023-O.jpg'}},\n",
       "     {'imagem_externa': {'url': 'http://http2.mlstatic.com/D_953717-MLU72677733863_112023-O.jpg'}}],\n",
       "    'classe_produto': 'V',\n",
       "    'variacoes': [{'variacao': {'codigo': 'MLB3562637891-1',\n",
       "       'preco': '1759.9',\n",
       "       'estoque_atual': 100,\n",
       "       'grade': {'Cor': 'Inox', 'Voltagem': '127V/220V'}}}]}},\n",
       "  {'produto': {'sequencia': 2,\n",
       "    'nome': 'Cooktop A Gas 4 Bocas Inox Bivolt 60x52cm - Electrolux',\n",
       "    'codigo': 'MLB4969200524',\n",
       "    'gtin': 'N/A',\n",
       "    'unidade': 'UN',\n",
       "    'preco': 1499.9,\n",
       "    'peso_liquido': 7.0,\n",
       "    'peso_bruto': 7.0,\n",
       "    'altura_embalagem': 60.0,\n",
       "    'largura_embalagem': 50.0,\n",
       "    'comprimento_embalagem': 20.0,\n",
       "    'origem': '0',\n",
       "    'situacao': 'A',\n",
       "    'tipo': 'P',\n",
       "    'estoque_atual': 100,\n",
       "    'estoque_minimo': 100,\n",
       "    'dias_preparacao': 3,\n",
       "    'categoria': 'Eletrodomésticos >> Fornos e Fogões >> Cooktop',\n",
       "    'descricao_complementar': '\"Desperte o Chef em Voce com o Cooktop a Gas 5 Bocas Inox Bivolt 60x52cm - Electrolux!\\n\\nEleve sua experiencia culinaria com o Cooktop a Gas Electrolux, uma peca de design moderno e eficiente, projetada para proporcionar praticidade e sofisticacao a sua cozinha. Confira os destaques que fazem deste cooktop uma escolha excepcional:\\n\\nCaracteristicas Principais:\\n\\nAlimentacao: Eletrica, assegurando desempenho confiavel.\\nMarca: Electrolux, referencia em qualidade e inovacao.\\nDimensao: 10,3 X 60 X 52 cm, tamanho compacto e funcional para otimizar o espaco.\\nTensao Eletrica: Bivolt, adaptando-se facilmente a sua instalacao eletrica.\\nQuantidade de Bocas: 4 bocas, perfeito equilibrio entre praticidade e versatilidade.\\nTonalidade: Prata, conferindo elegancia e modernidade ao ambiente.\\nAcendedor Super Automatico: Facilita o acendimento rapido e seguro.\\nGarantia do Fabricante: 12 meses, assegurando sua satisfacao a longo prazo.\\nMaterial: Aco, proporcionando durabilidade e resistencia.\\nProduto: Cooktop GT60X a gas com mesa em aco inox e queimador tripla-chama (Nacional).\\nO Cooktop GT60X da Electrolux une tecnologia e estilo, tornando-se uma escolha ideal para quem busca eficiencia e design contemporaneo. Com a mesa em aco inox e queimador tripla-chama, prepare suas receitas favoritas com praticidade e rapidez.\\n\\nInvista na qualidade da Electrolux e transforme sua cozinha em um espaco de inspiracao gastronomica. Adquira agora o Cooktop a Gas 5 Bocas Inox Bivolt e descubra o prazer de cozinhar com sofisticacao e eficiencia.\"',\n",
       "    'marca': 'Electrolux',\n",
       "    'garantia': '3',\n",
       "    'imagens_externas': [{'imagem_externa': {'url': 'http://http2.mlstatic.com/D_896648-MLB78219352915_082024-O.jpg'}},\n",
       "     {'imagem_externa': {'url': 'http://http2.mlstatic.com/D_964450-MLB77994718082_082024-O.jpg'}},\n",
       "     {'imagem_externa': {'url': 'http://http2.mlstatic.com/D_846774-MLB78219559231_082024-O.jpg'}},\n",
       "     {'imagem_externa': {'url': 'http://http2.mlstatic.com/D_996924-MLB78219352933_082024-O.jpg'}}],\n",
       "    'classe_produto': 'V',\n",
       "    'variacoes': [{'variacao': {'codigo': 'MLB4969200524-1',\n",
       "       'preco': '1499.9',\n",
       "       'estoque_atual': 100,\n",
       "       'grade': {'Cor': 'Prateado', 'Voltagem': '110V/220V'}}}]}}]}"
      ]
     },
     "execution_count": 13,
     "metadata": {},
     "output_type": "execute_result"
    }
   ],
   "source": [
    "# Cria o JSON com base nos dados do DataFrame\n",
    "produto_info = criar_json_produtos(df_categorias)\n",
    "produto_info\n",
    "# Visualiza o JSON gerado\n",
    "#print(json.dumps(produtos_info, indent=4))"
   ]
  },
  {
   "cell_type": "code",
   "execution_count": 14,
   "metadata": {},
   "outputs": [
    {
     "name": "stdout",
     "output_type": "stream",
     "text": [
      "Erro na solicitação. Código de erro: 2\n",
      "[{'registro': {'sequencia': '1', 'status': 'Erro', 'codigo_erro': '30', 'erros': [{'erro': 'Registro em duplicidade - código (SKU) do produto já cadastrado'}]}}, {'registro': {'variacoes': [{'variacao': {'id': 888931845}}], 'sequencia': '2', 'status': 'OK', 'id': 888931844}}]\n"
     ]
    }
   ],
   "source": [
    "#\n",
    "#! Conectando ao tiny e criando os produtos\n",
    "connect_and_create_tiny(produto_info)"
   ]
  },
  {
   "cell_type": "markdown",
   "metadata": {},
   "source": [
    "## **REANUNCIOS**"
   ]
  },
  {
   "cell_type": "code",
   "execution_count": 17,
   "metadata": {},
   "outputs": [],
   "source": [
    "\n",
    "#! Capturando dados do projeto\n",
    "sheet_configs  = sheets_client.open_by_key(spreadsheet_id)\n",
    "wks_reanuncio_info  = sheet_configs.worksheet_by_title(title=\"REANUNCIOS - Buscador de Informações\")"
   ]
  },
  {
   "cell_type": "code",
   "execution_count": 18,
   "metadata": {},
   "outputs": [
    {
     "name": "stdout",
     "output_type": "stream",
     "text": [
      "Executando a função get_active_products\n"
     ]
    },
    {
     "data": {
      "text/plain": [
       "['MLB4145506666', 'MLB2771605778']"
      ]
     },
     "execution_count": 18,
     "metadata": {},
     "output_type": "execute_result"
    }
   ],
   "source": [
    "reanuncios_pendentes = reanuncio_get_active_products(wks_reanuncio_info)\n",
    "reanuncios_pendentes"
   ]
  },
  {
   "cell_type": "code",
   "execution_count": 19,
   "metadata": {},
   "outputs": [],
   "source": [
    "reanuncio_search_result = renuncio_get_ml_data(reanuncios_pendentes)"
   ]
  },
  {
   "cell_type": "code",
   "execution_count": 20,
   "metadata": {},
   "outputs": [],
   "source": [
    "reanuncio_paste_values(wks_reanuncio_info, reanuncio_search_result)"
   ]
  },
  {
   "cell_type": "code",
   "execution_count": 21,
   "metadata": {},
   "outputs": [],
   "source": [
    "#! Consulta a planilha de buscador de informações com as infos preenchidas\n",
    "#! Faz o tratamento para separar altura, largura, comprimento e peso e cria um dataframe\n",
    "def reanuncio_get_products_df(wks_reanuncio_info):\n",
    "    products_df                                                 = wks_reanuncio_info.get_as_df(has_header=True, start=\"B5\", end=\"Q50\")\n",
    "\n",
    "    final_products_df = products_df\n",
    "\n",
    "    return(final_products_df)\n",
    "#end def"
   ]
  },
  {
   "cell_type": "code",
   "execution_count": 22,
   "metadata": {},
   "outputs": [
    {
     "data": {
      "text/html": [
       "<div>\n",
       "<style scoped>\n",
       "    .dataframe tbody tr th:only-of-type {\n",
       "        vertical-align: middle;\n",
       "    }\n",
       "\n",
       "    .dataframe tbody tr th {\n",
       "        vertical-align: top;\n",
       "    }\n",
       "\n",
       "    .dataframe thead th {\n",
       "        text-align: right;\n",
       "    }\n",
       "</style>\n",
       "<table border=\"1\" class=\"dataframe\">\n",
       "  <thead>\n",
       "    <tr style=\"text-align: right;\">\n",
       "      <th></th>\n",
       "      <th>MLB Antigo</th>\n",
       "      <th>Título</th>\n",
       "      <th>Descrição</th>\n",
       "      <th>Marca</th>\n",
       "      <th>Preço</th>\n",
       "      <th>Imagem1</th>\n",
       "      <th>Imagem2</th>\n",
       "      <th>Imagem3</th>\n",
       "      <th>Imagem4</th>\n",
       "      <th>Imagem5</th>\n",
       "      <th>Imagem6</th>\n",
       "      <th>Imagem7</th>\n",
       "      <th>Imagem8</th>\n",
       "      <th>Imagem9</th>\n",
       "      <th>Imagem10</th>\n",
       "      <th>Imagem11</th>\n",
       "    </tr>\n",
       "  </thead>\n",
       "  <tbody>\n",
       "    <tr>\n",
       "      <th>0</th>\n",
       "      <td>MLB4145506666</td>\n",
       "      <td>Cooler Caixa Térmica Alça Suporte 28 L 44x44x3...</td>\n",
       "      <td>O que vem a seguir na sua lista de aventuras? ...</td>\n",
       "      <td>Igloo</td>\n",
       "      <td>699.9</td>\n",
       "      <td>http://http2.mlstatic.com/D_646559-MLA77553898...</td>\n",
       "      <td>http://http2.mlstatic.com/D_980105-MLB77553827...</td>\n",
       "      <td>http://http2.mlstatic.com/D_781338-MLB77771995...</td>\n",
       "      <td>http://http2.mlstatic.com/D_888387-MLB77772006...</td>\n",
       "      <td>http://http2.mlstatic.com/D_637137-MLB77772065...</td>\n",
       "      <td></td>\n",
       "      <td></td>\n",
       "      <td></td>\n",
       "      <td></td>\n",
       "      <td></td>\n",
       "      <td></td>\n",
       "    </tr>\n",
       "    <tr>\n",
       "      <th>1</th>\n",
       "      <td>MLB2771605778</td>\n",
       "      <td>Cooler Caixa Térmica 86 Litros Rodas Aço E Sup...</td>\n",
       "      <td>Esta caixa térmica resistente da Igloo é ótima...</td>\n",
       "      <td>Igloo</td>\n",
       "      <td>1789.9</td>\n",
       "      <td>http://http2.mlstatic.com/D_799353-MLB73333293...</td>\n",
       "      <td>http://http2.mlstatic.com/D_837123-MLB73333596...</td>\n",
       "      <td>http://http2.mlstatic.com/D_840623-MLB73247065...</td>\n",
       "      <td>http://http2.mlstatic.com/D_633672-MLB73333596...</td>\n",
       "      <td>http://http2.mlstatic.com/D_749366-MLB73333263...</td>\n",
       "      <td>http://http2.mlstatic.com/D_929111-MLB73247115...</td>\n",
       "      <td></td>\n",
       "      <td></td>\n",
       "      <td></td>\n",
       "      <td></td>\n",
       "      <td></td>\n",
       "    </tr>\n",
       "  </tbody>\n",
       "</table>\n",
       "</div>"
      ],
      "text/plain": [
       "      MLB Antigo                                             Título  \\\n",
       "0  MLB4145506666  Cooler Caixa Térmica Alça Suporte 28 L 44x44x3...   \n",
       "1  MLB2771605778  Cooler Caixa Térmica 86 Litros Rodas Aço E Sup...   \n",
       "\n",
       "                                           Descrição  Marca   Preço  \\\n",
       "0  O que vem a seguir na sua lista de aventuras? ...  Igloo   699.9   \n",
       "1  Esta caixa térmica resistente da Igloo é ótima...  Igloo  1789.9   \n",
       "\n",
       "                                             Imagem1  \\\n",
       "0  http://http2.mlstatic.com/D_646559-MLA77553898...   \n",
       "1  http://http2.mlstatic.com/D_799353-MLB73333293...   \n",
       "\n",
       "                                             Imagem2  \\\n",
       "0  http://http2.mlstatic.com/D_980105-MLB77553827...   \n",
       "1  http://http2.mlstatic.com/D_837123-MLB73333596...   \n",
       "\n",
       "                                             Imagem3  \\\n",
       "0  http://http2.mlstatic.com/D_781338-MLB77771995...   \n",
       "1  http://http2.mlstatic.com/D_840623-MLB73247065...   \n",
       "\n",
       "                                             Imagem4  \\\n",
       "0  http://http2.mlstatic.com/D_888387-MLB77772006...   \n",
       "1  http://http2.mlstatic.com/D_633672-MLB73333596...   \n",
       "\n",
       "                                             Imagem5  \\\n",
       "0  http://http2.mlstatic.com/D_637137-MLB77772065...   \n",
       "1  http://http2.mlstatic.com/D_749366-MLB73333263...   \n",
       "\n",
       "                                             Imagem6 Imagem7 Imagem8 Imagem9  \\\n",
       "0                                                                              \n",
       "1  http://http2.mlstatic.com/D_929111-MLB73247115...                           \n",
       "\n",
       "  Imagem10 Imagem11  \n",
       "0                    \n",
       "1                    "
      ]
     },
     "execution_count": 22,
     "metadata": {},
     "output_type": "execute_result"
    }
   ],
   "source": [
    "reanuncio_df = reanuncio_get_products_df(wks_reanuncio_info)\n",
    "reanuncio_df"
   ]
  },
  {
   "cell_type": "code",
   "execution_count": 23,
   "metadata": {},
   "outputs": [
    {
     "name": "stdout",
     "output_type": "stream",
     "text": [
      "Imagem salva e redimensionada: C:\\Users\\Usuário\\Downloads\\11.jpg\n",
      "Imagem salva e redimensionada: C:\\Users\\Usuário\\Downloads\\12.jpg\n",
      "Imagem salva e redimensionada: C:\\Users\\Usuário\\Downloads\\13.jpg\n",
      "Imagem salva e redimensionada: C:\\Users\\Usuário\\Downloads\\14.jpg\n",
      "Imagem salva e redimensionada: C:\\Users\\Usuário\\Downloads\\15.jpg\n",
      "Erro ao processar : Invalid URL '': No scheme supplied. Perhaps you meant https://?\n",
      "Erro ao processar : Invalid URL '': No scheme supplied. Perhaps you meant https://?\n",
      "Erro ao processar : Invalid URL '': No scheme supplied. Perhaps you meant https://?\n",
      "Erro ao processar : Invalid URL '': No scheme supplied. Perhaps you meant https://?\n",
      "Erro ao processar : Invalid URL '': No scheme supplied. Perhaps you meant https://?\n",
      "Erro ao processar : Invalid URL '': No scheme supplied. Perhaps you meant https://?\n",
      "Imagem salva e redimensionada: C:\\Users\\Usuário\\Downloads\\21.jpg\n",
      "Imagem salva e redimensionada: C:\\Users\\Usuário\\Downloads\\22.jpg\n",
      "Imagem salva e redimensionada: C:\\Users\\Usuário\\Downloads\\23.jpg\n",
      "Imagem salva e redimensionada: C:\\Users\\Usuário\\Downloads\\24.jpg\n",
      "Imagem salva e redimensionada: C:\\Users\\Usuário\\Downloads\\25.jpg\n",
      "Imagem salva e redimensionada: C:\\Users\\Usuário\\Downloads\\26.jpg\n",
      "Erro ao processar : Invalid URL '': No scheme supplied. Perhaps you meant https://?\n",
      "Erro ao processar : Invalid URL '': No scheme supplied. Perhaps you meant https://?\n",
      "Erro ao processar : Invalid URL '': No scheme supplied. Perhaps you meant https://?\n",
      "Erro ao processar : Invalid URL '': No scheme supplied. Perhaps you meant https://?\n",
      "Erro ao processar : Invalid URL '': No scheme supplied. Perhaps you meant https://?\n"
     ]
    }
   ],
   "source": [
    "import os\n",
    "import requests\n",
    "from PIL import Image\n",
    "from io import BytesIO\n",
    "import pandas as pd\n",
    "\n",
    "# Função para converter números em letras\n",
    "def number_to_letter(number):\n",
    "    if number <= 9:\n",
    "        return str(number)\n",
    "    else:\n",
    "        # Converte números maiores que 9 para letras\n",
    "        return chr(65 + (number - 10))\n",
    "\n",
    "# Supondo que o DataFrame já esteja disponível\n",
    "df = reanuncio_df\n",
    "\n",
    "# Defina o caminho para a pasta de downloads\n",
    "download_path = os.path.join(os.path.expanduser('~'), 'Downloads')\n",
    "\n",
    "# Função para baixar e redimensionar a imagem\n",
    "def download_and_resize_image(url, file_name):\n",
    "    try:\n",
    "        response = requests.get(url)\n",
    "        if response.status_code == 200:\n",
    "            image = Image.open(BytesIO(response.content))\n",
    "            # Redimensiona a imagem para 500x500 usando o filtro LANCZOS\n",
    "            image = image.resize((500, 500), Image.LANCZOS)\n",
    "            image.save(file_name)\n",
    "            print(f\"Imagem salva e redimensionada: {file_name}\")\n",
    "        else:\n",
    "            print(f\"Erro ao baixar {url}: Status {response.status_code}\")\n",
    "    except Exception as e:\n",
    "        print(f\"Erro ao processar {url}: {e}\")\n",
    "\n",
    "# Função principal para iterar sobre o DataFrame e baixar as imagens das colunas Imagem1 até Imagem11\n",
    "def baixar_imagens(df):\n",
    "    # Itera sobre o DataFrame e processa as colunas de imagens\n",
    "    for index, row in df.iterrows():\n",
    "        base_name = number_to_letter(index + 1)  # Nome baseado no número da linha convertido em letra\n",
    "\n",
    "        # Captura as colunas de Imagem1 a Imagem11\n",
    "        urls = [row.get(f'Imagem{i}') for i in range(1, 12)]  # Imagem1 a Imagem11\n",
    "\n",
    "        # Itera sobre as URLs de imagens e faz o download e redimensionamento\n",
    "        for i, url in enumerate(urls, start=1):\n",
    "            if pd.notna(url):  # Verifica se a URL não está vazia\n",
    "                # Nome do arquivo baseado no número da linha e na coluna da imagem\n",
    "                file_name = os.path.join(download_path, base_name + number_to_letter(i) + '.jpg')\n",
    "                download_and_resize_image(url, file_name)\n",
    "\n",
    "# Chamada da função para baixar as imagens\n",
    "baixar_imagens(df)"
   ]
  }
 ],
 "metadata": {
  "kernelspec": {
   "display_name": "Python 3",
   "language": "python",
   "name": "python3"
  },
  "language_info": {
   "codemirror_mode": {
    "name": "ipython",
    "version": 3
   },
   "file_extension": ".py",
   "mimetype": "text/x-python",
   "name": "python",
   "nbconvert_exporter": "python",
   "pygments_lexer": "ipython3",
   "version": "3.9.13"
  }
 },
 "nbformat": 4,
 "nbformat_minor": 2
}
